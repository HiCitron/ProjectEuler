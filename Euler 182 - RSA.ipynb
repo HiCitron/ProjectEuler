{
 "cells": [
  {
   "cell_type": "markdown",
   "metadata": {
    "ExecuteTime": {
     "end_time": "2020-02-05T16:16:47.452880Z",
     "start_time": "2020-02-05T16:16:47.451880Z"
    }
   },
   "source": [
    "# Project Euler 182 - RSA encryption\n",
    "\n",
    "- Author: Philippe Marchandise\n",
    "\n",
    "Project Euler is a series of challenging mathematical/computer science problems that will require more than just mathematical insights to solve. Although mathematics will help arriving at elegant and efficient methods, programming will be required to solve most problems. Once well optimized, those problems can be solved in less than a minute by any computer. Without optimization, they usually cannot be solved in a reasonable time.\n",
    "\n",
    "The difficulty ranges from 5% to 100%. The following is a __60% difficulty__ problem.\n",
    "\n",
    "To this date (28/01/20), I have __completed 125 problems__ on Project Euler. They required solid mathematical reasoning and advanced optimization techniques.\n",
    "\n",
    "\n",
    "## The problem\n",
    "\n",
    "The RSA encryption is based on the following procedure:\n",
    "\n",
    "Take two distinct primes p and q and let $\\ n=pq\\ $ and $\\ \\phi = (p-1)(q-1)\\ $.\n",
    "Find an integer $ e, 1<e<\\phi \\ $, such that $ \\textrm{gcd}(\\ e,\\phi\\ )=1\\$.\n",
    "\n",
    "A message in this system is a number in the interval $[0,n-1]$. To encrypt the message $m,\\ c=m^e \\ (\\textrm{mod}\\ n)$ is calculated.\n",
    "\n",
    "To decrypt the text, calculate d such that $ed=1\\ (\\textrm{mod}\\ \\phi)$, then for each encrypted message c, calculate $m=cd\\ (\\textrm{mod}\\ n)$.\n",
    "\n",
    "There exist values of $e$ and $m$ such that $m^e\\ (\\textrm{mod}\\ n )=m$.\n",
    "We call them unconcealed messages. An issue when choosing $e$ is that there should not be too many unconcealed messages.\n",
    "\n",
    "For instance, let $p=19$ and $q=37$. Then $n=703$ and $\\phi = 648$\n",
    "If we choose $e=181$, then, although $\\textrm{gcd}(181,648)=1$, it turns out that all possible messages\n",
    "$m\\ (0 \\leq m \\leq n-1)$ are unconcealed.\n",
    "\n",
    "For any valid choice of e there exist some unconcealed messages.\n",
    "It's important that the __number of unconcealed messages is at a minimum__.\n",
    "\n",
    "$\\\\ $\n",
    "\n",
    "Choose $p=1009$ and $q=3643$. Find the sum of all values of $e$ so that the number of unconcealed messages is at a minimum."
   ]
  },
  {
   "cell_type": "markdown",
   "metadata": {},
   "source": [
    "## I - Complexity estimation\n",
    "\n",
    "$ 1 < e < \\phi(p,q)\\, \\ \\ \\ \\ \\ \\ \\ \\ \\ \\ \\ \\ \\phi(p,q) = (p-1)(q-1) = 1008 \\times 3642 = 3671136$\n",
    "\n",
    "Hence, there are $3\\ 671\\ 134$ possible values for $e$. Let's see how many satisfy $\\ \\textrm{gcd}(\\ e, \\phi\\ ) = 1 )$\n",
    "\n",
    "($\\phi$ being even, we can ignore even values of $e$)"
   ]
  },
  {
   "cell_type": "code",
   "execution_count": 1,
   "metadata": {
    "ExecuteTime": {
     "end_time": "2020-02-07T02:18:45.631529Z",
     "start_time": "2020-02-07T02:18:44.844716Z"
    }
   },
   "outputs": [
    {
     "data": {
      "text/plain": [
       "1047167"
      ]
     },
     "execution_count": 1,
     "metadata": {},
     "output_type": "execute_result"
    }
   ],
   "source": [
    "from math import gcd\n",
    "\n",
    "p = 1009; q = 3643; phi = (p-1)*(q-1)\n",
    "\n",
    "total = 0\n",
    "for e in range(3, phi, 2):\n",
    "    if gcd(e, phi) == 1: total += 1\n",
    "total"
   ]
  },
  {
   "cell_type": "markdown",
   "metadata": {},
   "source": [
    "There are $1\\ 047\\ 167$ possible values for $e$\n",
    "\n",
    "For each one, we need all the values of $\\ m^e\\ \\textrm{mod}\\ n\\ $ for $ 0 \\leq m \\leq n-1 $, so $3\\ 675\\ 787$ values to exponentiate.\n",
    "\n",
    "Hence the complexity of this brute force approach is about $1\\ 047\\ 167 \\times 3\\ 675\\ 787 = 3\\ 849\\ 162\\ 845\\ 429$ operations.\n",
    "\n",
    "With $10^7$ operations per second, this would take 107 hours at best. Hence, it is not doable."
   ]
  },
  {
   "cell_type": "markdown",
   "metadata": {
    "ExecuteTime": {
     "end_time": "2020-02-06T12:18:00.225176Z",
     "start_time": "2020-02-06T12:18:00.222176Z"
    }
   },
   "source": [
    "## II - Looking at solutions: is there an easy pattern?\n",
    "\n",
    "Let's compute the solutions for the first few values of $e$"
   ]
  },
  {
   "cell_type": "code",
   "execution_count": 2,
   "metadata": {
    "ExecuteTime": {
     "end_time": "2020-02-07T02:19:41.316808Z",
     "start_time": "2020-02-07T02:18:45.631529Z"
    }
   },
   "outputs": [
    {
     "name": "stdout",
     "output_type": "stream",
     "text": [
      "e:5 m:(0, 1, 116575, 346086, 462662, 1548275, 1664850, 1664851, 2010936, 2010937, 2127512, 3213125, 3329701, 3559212, 3675786)\n"
     ]
    }
   ],
   "source": [
    "def getValues(elimite = 25):\n",
    "    p = 1009; q = 3643; phi = (p-1)*(q-1)\n",
    "    n = p*q\n",
    "\n",
    "    values = []\n",
    "    for e in range(2, elimite):\n",
    "\n",
    "        if gcd(e, phi) == 1:\n",
    "\n",
    "            values += [[e]]\n",
    "            for m in range(0, n):\n",
    "\n",
    "                # more efficient exponentiation when the modulo is applied at each step\n",
    "                c = 1\n",
    "                for i in range(e):\n",
    "                    c = c*m % n\n",
    "\n",
    "                if c == m: values[-1] += [m]\n",
    "    return values\n",
    "\n",
    "values = getValues()\n",
    "print( \"e:{} m:({})\".format(values[0][0], ', '.join(map(str,values[0][1:])) )  )"
   ]
  },
  {
   "cell_type": "markdown",
   "metadata": {},
   "source": [
    "A lot of the solutions are __almost multiple of p or q__ (+/- 1). Are all the solutions like this?"
   ]
  },
  {
   "cell_type": "code",
   "execution_count": 3,
   "metadata": {
    "ExecuteTime": {
     "end_time": "2020-02-07T02:19:41.324809Z",
     "start_time": "2020-02-07T02:19:41.316808Z"
    }
   },
   "outputs": [],
   "source": [
    "v = values[0]\n",
    "for i in v[1:]:\n",
    "    if   i % p == 0   or i % q == 0  : pass\n",
    "    elif i % p == 1   or i % q == 1  : pass\n",
    "    elif i % p == p-1 or i % q == q-1: pass\n",
    "    else: print('No', i)"
   ]
  },
  {
   "cell_type": "markdown",
   "metadata": {
    "ExecuteTime": {
     "end_time": "2020-02-05T16:21:00.343207Z",
     "start_time": "2020-02-05T16:21:00.341207Z"
    }
   },
   "source": [
    "True for e = 5, what about the others?"
   ]
  },
  {
   "cell_type": "code",
   "execution_count": 4,
   "metadata": {
    "ExecuteTime": {
     "end_time": "2020-02-07T02:19:41.340810Z",
     "start_time": "2020-02-07T02:19:41.328810Z"
    }
   },
   "outputs": [
    {
     "name": "stdout",
     "output_type": "stream",
     "text": [
      "e = 5 \tcard =  15\n",
      "e = 11 \tcard =  9\n",
      "e = 13 \tcard =  91\n",
      "13 No 28721\n",
      "e = 17 \tcard =  51\n",
      "e = 19 \tcard =  133\n",
      "19 No 33210\n",
      "e = 23 \tcard =  9\n"
     ]
    }
   ],
   "source": [
    "for v in values:\n",
    "    print('e =',v[0], '\\tcard = ', len(v)-1)\n",
    "    for i in v[1:]:\n",
    "        if   i % p == 0   or i % q == 0  : pass\n",
    "        elif i % p == 1   or i % q == 1  : pass\n",
    "        elif i % p == p-1 or i % q == q-1: pass\n",
    "        else:\n",
    "            print(v[0], 'No', i)\n",
    "            break"
   ]
  },
  {
   "cell_type": "markdown",
   "metadata": {},
   "source": [
    "Worked well until e = 13.\n",
    "\n",
    "For $\\ e = 13,\\ 40/91 \\ $ solutions don't verify the hypothesis. For $e = 19\\ $, that's $64/133$. It seems to be about half but nothing obvious.\n",
    "\n",
    "More analysis confirmed that those exceptions don't have any specificity: No common factor; no obvious link with n, $\\phi$ or e; no specific period... They are pretty much unpredictable."
   ]
  },
  {
   "cell_type": "markdown",
   "metadata": {
    "ExecuteTime": {
     "end_time": "2020-02-06T12:40:01.290996Z",
     "start_time": "2020-02-06T12:40:01.289996Z"
    }
   },
   "source": [
    "Is there an obvious __relation between the number of solution and $e$__?"
   ]
  },
  {
   "cell_type": "code",
   "execution_count": 5,
   "metadata": {
    "ExecuteTime": {
     "end_time": "2020-02-07T02:19:41.352810Z",
     "start_time": "2020-02-07T02:19:41.340810Z"
    }
   },
   "outputs": [
    {
     "name": "stdout",
     "output_type": "stream",
     "text": [
      "e =  5, v =  16\n",
      "e = 11, v =  10\n",
      "e = 13, v =  92\n",
      "e = 17, v =  52\n",
      "e = 19, v = 134\n",
      "e = 23, v =  10\n"
     ]
    }
   ],
   "source": [
    "for v in values: print(\"e = {:2}, v = {:3}\".format(v[0], len(v)))"
   ]
  },
  {
   "cell_type": "markdown",
   "metadata": {},
   "source": [
    "They are all even, other than that nothing obvious..\n",
    "\n",
    "Maybe __multiple of e +/- 1 ?__"
   ]
  },
  {
   "cell_type": "code",
   "execution_count": 6,
   "metadata": {
    "ExecuteTime": {
     "end_time": "2020-02-07T02:19:41.368813Z",
     "start_time": "2020-02-07T02:19:41.356814Z"
    }
   },
   "outputs": [
    {
     "name": "stdout",
     "output_type": "stream",
     "text": [
      "5 -1\n",
      "11 1\n",
      "13 -1\n",
      "17 -1\n",
      "19 -1\n",
      "23 no\n"
     ]
    }
   ],
   "source": [
    "for v in values:\n",
    "    l = len(v)\n",
    "    if   (l-1) % v[0] == 0: print(v[0], -1)\n",
    "    elif (l+1) % v[0] == 0: print(v[0],  1)\n",
    "    elif  l    % v[0] == 0: print(v[0],  0)\n",
    "    else: print(v[0], 'no')"
   ]
  },
  {
   "cell_type": "markdown",
   "metadata": {},
   "source": [
    "No obvious pattern there neither... Let's not waste too much time here and tackle the theory"
   ]
  },
  {
   "cell_type": "markdown",
   "metadata": {},
   "source": [
    "## III - Theory"
   ]
  },
  {
   "cell_type": "markdown",
   "metadata": {
    "ExecuteTime": {
     "end_time": "2020-02-06T15:07:43.143178Z",
     "start_time": "2020-02-06T15:07:43.142178Z"
    }
   },
   "source": [
    "When a message is not affected by the RSA encryption, it is called a fixed point. Such a message $m$ has the property $m^e \\equiv m\\ (\\textrm{mod}\\ n)$\n",
    "\n",
    "\n",
    "To find all of those messages, we can use the Chinese Remainder Theorem (CRT). Knowing $n = p \\times q $ and $p, q$ are coprime. we now have the system:\n",
    "\n",
    "$$m^e \\equiv m\\ (\\textrm{mod}\\ p)$$\n",
    "\n",
    "$$m^e \\equiv m\\ (\\textrm{mod}\\ q)$$"
   ]
  },
  {
   "cell_type": "markdown",
   "metadata": {
    "ExecuteTime": {
     "end_time": "2020-02-06T15:07:43.308178Z",
     "start_time": "2020-02-06T15:07:43.304178Z"
    }
   },
   "source": [
    "$\\ $\n",
    "\n",
    "Working on the first equation, we want to find the solutions $m$ such that:\n",
    "\n",
    "$$m^e \\equiv m\\ (\\textrm{mod}\\ p)$$\n",
    "\n",
    "$$\\iff m\\ (m^{e-1} - 1) \\equiv 0\\ (\\textrm{mod}\\ p)$$"
   ]
  },
  {
   "cell_type": "markdown",
   "metadata": {
    "ExecuteTime": {
     "end_time": "2020-02-06T15:07:43.502178Z",
     "start_time": "2020-02-06T15:07:43.496178Z"
    }
   },
   "source": [
    "$\\ $\n",
    "\n",
    "- If m is a factor of p: $\\ \\ \\ \\ m\\ \\equiv 0\\ (\\textrm{mod}\\ p)$\n",
    "\n",
    "\n",
    "- Else (if m and p are coprime), we can find a primitive root g such that $\\ m = g^t\\ $. Hence we want to find g such that:\n",
    "\n",
    "$$g^{\\ t\\ e} \\equiv g^{\\ t}\\ (\\textrm{mod}\\ p)$$\n",
    "\n",
    "$$\\iff t\\ (e - 1) \\equiv 0\\ (\\textrm{mod}\\ \\phi(p))$$\n",
    "\n",
    "\n",
    "$\\ \\ \\ \\ \\ \\ $ Since p is prime, $\\ \\phi(p) = p-1$. Hence, this last equation has $\\ \\textrm{gcd}(\\ e-1, p-1 )\\$ solutions\n",
    "\n",
    "$\\ $\n",
    "\n",
    "Hence, there are $\\ \\ 1 + \\textrm{gcd}(\\ e-1, p-1 )\\ \\ $ solutions to $\\ \\ m^e \\equiv m\\ (\\textrm{mod}\\ p)$."
   ]
  },
  {
   "cell_type": "markdown",
   "metadata": {},
   "source": [
    "By symmetry, there are $\\ \\ 1 + \\textrm{gcd}(\\ e-1, q-1 )\\ \\ $ solutions to $\\ \\ m^e \\equiv m\\ (\\textrm{mod}\\ q)$.\n",
    "\n",
    "$\\ $\n",
    "\n",
    "Hence, the system has $\\ \\ (1 + \\textrm{gcd}(\\ e-1, p-1 )\\ )\\ (1 + \\textrm{gcd}(\\ e-1, q-1 )\\ ) \\ $ solutions."
   ]
  },
  {
   "cell_type": "markdown",
   "metadata": {
    "ExecuteTime": {
     "end_time": "2020-02-06T13:03:04.809396Z",
     "start_time": "2020-02-06T13:03:04.807396Z"
    }
   },
   "source": [
    "## IV - Verification and last optimization"
   ]
  },
  {
   "cell_type": "code",
   "execution_count": 7,
   "metadata": {
    "ExecuteTime": {
     "end_time": "2020-02-07T02:19:41.384941Z",
     "start_time": "2020-02-07T02:19:41.370935Z"
    }
   },
   "outputs": [
    {
     "name": "stdout",
     "output_type": "stream",
     "text": [
      "15\t15\n",
      "9\t9\n",
      "91\t91\n",
      "51\t51\n",
      "133\t133\n",
      "9\t9\n"
     ]
    }
   ],
   "source": [
    "def getNsol(e, p=1009, q=3643):\n",
    "    return (1 + gcd(e-1, p-1))*(1 + gcd(e-1, q-1))\n",
    "\n",
    "for v in values: print(len(v[1:]), getNsol(v[0]), sep = '\\t' )"
   ]
  },
  {
   "cell_type": "markdown",
   "metadata": {
    "ExecuteTime": {
     "end_time": "2020-02-06T16:05:06.748330Z",
     "start_time": "2020-02-06T16:05:06.747330Z"
    }
   },
   "source": [
    "Seems to work! Let's try to solve it now!"
   ]
  },
  {
   "cell_type": "code",
   "execution_count": 8,
   "metadata": {
    "ExecuteTime": {
     "end_time": "2020-02-07T02:19:43.030416Z",
     "start_time": "2020-02-07T02:19:41.388957Z"
    }
   },
   "outputs": [
    {
     "name": "stdout",
     "output_type": "stream",
     "text": [
      "9 399788195976\n"
     ]
    }
   ],
   "source": [
    "p=1009; q=3643; n = p*q; phi = (p-1)*(q-1)\n",
    "\n",
    "mini = 9; sol = [];\n",
    "for e in range(3, phi, 2):\n",
    "    if gcd(e, phi) == 1:\n",
    "        n = getNsol(e, p, q) \n",
    "        if n == mini:\n",
    "            sol += [e]\n",
    "        elif n < mini:\n",
    "            mini = n\n",
    "            sol = [e]\n",
    "print(mini, sum(sol))"
   ]
  },
  {
   "cell_type": "markdown",
   "metadata": {},
   "source": [
    "The minimum seems to be 9, the answer is `399788195976`, obtained in `1.62 sec`: __this is the right answer!__\n",
    "\n",
    "For fun, can we do even __faster__?\n",
    "\n",
    "- If we directly sum the solutions, we avoid stocking 217,800 values. This takes us to `1.31s`\n",
    "\n",
    "- The gcd account for `0.6s` of the `1.31s` taken. How to build a better loop? The values of $e$ that will yield `9` solutions follow the properties:\n",
    "\n",
    "$$\\textrm{gcd}(e, (p-1)(q-1)\\ ) = 1, \\ \\ \\ \\ \\textrm{gcd}(e-1, p-1\\ ) = 2, \\ \\ \\ \\ \\textrm{gcd}(e-1, q-1\\ ) = 2 $$\n",
    "\n",
    "We know that the prime factorization of $\\phi$ is $2^5 . 3^3 . 7 . 607$\n",
    "\n",
    "This means that $e$ cannot be a multiple of `2, 3, 7, 607`, and that $e-1$ is a multiple of `2` but not `3, 4, 7, 607`\n",
    "\n",
    "So we get that $e$ must be odd, specifically  $ e \\equiv 3\\ (\\textrm{mod}\\ 4)$, and  $ e \\equiv 2\\ (\\textrm{mod}\\ 3)$\n",
    "\n",
    "A generating sequence is hence `12 k + 11`: we just made the loop `6` times faster!"
   ]
  },
  {
   "cell_type": "code",
   "execution_count": 9,
   "metadata": {
    "ExecuteTime": {
     "end_time": "2020-02-07T02:19:43.486713Z",
     "start_time": "2020-02-07T02:19:43.034402Z"
    }
   },
   "outputs": [
    {
     "name": "stdout",
     "output_type": "stream",
     "text": [
      "9 399788195976\n"
     ]
    }
   ],
   "source": [
    "p=1009; q=3643; n = p*q; phi = (p-1)*(q-1)\n",
    "\n",
    "s = 0\n",
    "e = 11\n",
    "while e < phi:\n",
    "    if gcd(e, phi) == 1:\n",
    "        if getNsol(e, p, q) == 9: s += e\n",
    "    e += 12\n",
    "print(mini, s)"
   ]
  },
  {
   "cell_type": "markdown",
   "metadata": {
    "ExecuteTime": {
     "end_time": "2020-02-06T16:18:15.450530Z",
     "start_time": "2020-02-06T16:18:15.440530Z"
    }
   },
   "source": [
    "Wow! That's only `316ms` ! But can we do better? How about skipping the $\\textrm{gcd}$ and `getNsol`?\n",
    "\n",
    "If $\\ e \\equiv 11 (\\textrm{mod}\\ 12)\\ $ and $\\ e\\ \\textrm{mod}\\ 7 \\geq 2\\ $ and $\\ e\\ \\textrm{mod}\\ 607 \\geq 2\\ $, then we are sure than $\\textrm{gcd}(e, \\phi) = 1\\ $ and that there will be only 9 solutions."
   ]
  },
  {
   "cell_type": "code",
   "execution_count": 11,
   "metadata": {
    "ExecuteTime": {
     "end_time": "2020-02-07T02:20:30.390901Z",
     "start_time": "2020-02-07T02:20:30.286934Z"
    }
   },
   "outputs": [
    {
     "name": "stdout",
     "output_type": "stream",
     "text": [
      "9 399788195976\n"
     ]
    }
   ],
   "source": [
    "p=1009; q=3643; n = p*q; phi = (p-1)*(q-1)\n",
    "\n",
    "s = 0\n",
    "e = 11\n",
    "while e < phi:\n",
    "    if e % 7 > 1:\n",
    "        if e % 607 > 1:\n",
    "            s += e\n",
    "    e += 12\n",
    "print(mini, s)"
   ]
  },
  {
   "cell_type": "markdown",
   "metadata": {},
   "source": [
    "`83ms`, that's what I call optimization!"
   ]
  }
 ],
 "metadata": {
  "kernelspec": {
   "display_name": "Python 3",
   "language": "python",
   "name": "python3"
  },
  "language_info": {
   "codemirror_mode": {
    "name": "ipython",
    "version": 3
   },
   "file_extension": ".py",
   "mimetype": "text/x-python",
   "name": "python",
   "nbconvert_exporter": "python",
   "pygments_lexer": "ipython3",
   "version": "3.7.0"
  },
  "varInspector": {
   "cols": {
    "lenName": 16,
    "lenType": 16,
    "lenVar": 40
   },
   "kernels_config": {
    "python": {
     "delete_cmd_postfix": "",
     "delete_cmd_prefix": "del ",
     "library": "var_list.py",
     "varRefreshCmd": "print(var_dic_list())"
    },
    "r": {
     "delete_cmd_postfix": ") ",
     "delete_cmd_prefix": "rm(",
     "library": "var_list.r",
     "varRefreshCmd": "cat(var_dic_list()) "
    }
   },
   "types_to_exclude": [
    "module",
    "function",
    "builtin_function_or_method",
    "instance",
    "_Feature"
   ],
   "window_display": false
  }
 },
 "nbformat": 4,
 "nbformat_minor": 2
}
